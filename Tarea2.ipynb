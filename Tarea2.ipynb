{
 "cells": [
  {
   "cell_type": "markdown",
   "id": "85532237",
   "metadata": {},
   "source": [
    "## Limpieza de base de datos"
   ]
  },
  {
   "cell_type": "code",
   "execution_count": 40,
   "id": "1f683f7f",
   "metadata": {},
   "outputs": [],
   "source": [
    "#Importamos el historico del precio del dolar\n",
    "import pandas as pd\n",
    "\n",
    "df_dolar = pd.read_csv(r'C:\\Users\\tmoli\\OneDrive\\Documentos\\Angel\\Maestria\\Materias\\3. Aprendizaje Automatico\\BD\\MXNUSD.csv')"
   ]
  },
  {
   "cell_type": "code",
   "execution_count": 41,
   "id": "0dd7ff6f",
   "metadata": {},
   "outputs": [
    {
     "name": "stdout",
     "output_type": "stream",
     "text": [
      "         Date     Open     High      Low   Close  Adj Close  Volume\n",
      "0  2003-12-01  11.1776  11.4250  11.1776  11.358     11.358     0.0\n",
      "1  2003-12-02  11.3605  11.3800  11.2740  11.290     11.290     0.0\n",
      "2  2003-12-03  11.3605  11.3605  11.1860  11.245     11.245     0.0\n",
      "3  2003-12-04  11.3550  11.3550  11.1590  11.188     11.188     0.0\n",
      "4  2003-12-05  11.1860  11.2400  11.1230  11.197     11.197     0.0 \n",
      "\n",
      " Date          object\n",
      "Open         float64\n",
      "High         float64\n",
      "Low          float64\n",
      "Close        float64\n",
      "Adj Close    float64\n",
      "Volume       float64\n",
      "dtype: object\n"
     ]
    }
   ],
   "source": [
    "#Tipo de datos y layout\n",
    "print(df_dolar.head(), \"\\n\\n\", df_dolar.dtypes)"
   ]
  },
  {
   "cell_type": "code",
   "execution_count": 42,
   "id": "7ced8611",
   "metadata": {},
   "outputs": [
    {
     "data": {
      "text/html": [
       "<div>\n",
       "<style scoped>\n",
       "    .dataframe tbody tr th:only-of-type {\n",
       "        vertical-align: middle;\n",
       "    }\n",
       "\n",
       "    .dataframe tbody tr th {\n",
       "        vertical-align: top;\n",
       "    }\n",
       "\n",
       "    .dataframe thead th {\n",
       "        text-align: right;\n",
       "    }\n",
       "</style>\n",
       "<table border=\"1\" class=\"dataframe\">\n",
       "  <thead>\n",
       "    <tr style=\"text-align: right;\">\n",
       "      <th></th>\n",
       "      <th>Fecha</th>\n",
       "      <th>Precio_Inicio</th>\n",
       "      <th>Precio_Maximo</th>\n",
       "      <th>Precio_Minimo</th>\n",
       "      <th>Precio_Final</th>\n",
       "      <th>Precio_Adjunto</th>\n",
       "      <th>Volumen</th>\n",
       "    </tr>\n",
       "  </thead>\n",
       "  <tbody>\n",
       "    <tr>\n",
       "      <th>0</th>\n",
       "      <td>2003-12-01</td>\n",
       "      <td>11.1776</td>\n",
       "      <td>11.4250</td>\n",
       "      <td>11.1776</td>\n",
       "      <td>11.358</td>\n",
       "      <td>11.358</td>\n",
       "      <td>0.0</td>\n",
       "    </tr>\n",
       "    <tr>\n",
       "      <th>1</th>\n",
       "      <td>2003-12-02</td>\n",
       "      <td>11.3605</td>\n",
       "      <td>11.3800</td>\n",
       "      <td>11.2740</td>\n",
       "      <td>11.290</td>\n",
       "      <td>11.290</td>\n",
       "      <td>0.0</td>\n",
       "    </tr>\n",
       "    <tr>\n",
       "      <th>2</th>\n",
       "      <td>2003-12-03</td>\n",
       "      <td>11.3605</td>\n",
       "      <td>11.3605</td>\n",
       "      <td>11.1860</td>\n",
       "      <td>11.245</td>\n",
       "      <td>11.245</td>\n",
       "      <td>0.0</td>\n",
       "    </tr>\n",
       "    <tr>\n",
       "      <th>3</th>\n",
       "      <td>2003-12-04</td>\n",
       "      <td>11.3550</td>\n",
       "      <td>11.3550</td>\n",
       "      <td>11.1590</td>\n",
       "      <td>11.188</td>\n",
       "      <td>11.188</td>\n",
       "      <td>0.0</td>\n",
       "    </tr>\n",
       "    <tr>\n",
       "      <th>4</th>\n",
       "      <td>2003-12-05</td>\n",
       "      <td>11.1860</td>\n",
       "      <td>11.2400</td>\n",
       "      <td>11.1230</td>\n",
       "      <td>11.197</td>\n",
       "      <td>11.197</td>\n",
       "      <td>0.0</td>\n",
       "    </tr>\n",
       "  </tbody>\n",
       "</table>\n",
       "</div>"
      ],
      "text/plain": [
       "        Fecha  Precio_Inicio  Precio_Maximo  Precio_Minimo  Precio_Final  \\\n",
       "0  2003-12-01        11.1776        11.4250        11.1776        11.358   \n",
       "1  2003-12-02        11.3605        11.3800        11.2740        11.290   \n",
       "2  2003-12-03        11.3605        11.3605        11.1860        11.245   \n",
       "3  2003-12-04        11.3550        11.3550        11.1590        11.188   \n",
       "4  2003-12-05        11.1860        11.2400        11.1230        11.197   \n",
       "\n",
       "   Precio_Adjunto  Volumen  \n",
       "0          11.358      0.0  \n",
       "1          11.290      0.0  \n",
       "2          11.245      0.0  \n",
       "3          11.188      0.0  \n",
       "4          11.197      0.0  "
      ]
     },
     "execution_count": 42,
     "metadata": {},
     "output_type": "execute_result"
    }
   ],
   "source": [
    "#Renombrar\n",
    "df_dolar.columns = ['Fecha', 'Precio_Inicio', 'Precio_Maximo', 'Precio_Minimo', 'Precio_Final', 'Precio_Adjunto', 'Volumen']\n",
    "\n",
    "df_dolar.head()"
   ]
  },
  {
   "cell_type": "code",
   "execution_count": 43,
   "id": "1cf73810",
   "metadata": {},
   "outputs": [],
   "source": [
    "#Eliminando columnas\n",
    "df_dolar = df_dolar.drop(['Precio_Adjunto', 'Volumen'], axis=1)"
   ]
  },
  {
   "cell_type": "code",
   "execution_count": 44,
   "id": "dca39654",
   "metadata": {},
   "outputs": [],
   "source": [
    "#Ordenar de mas reciente a mas antiguo \n",
    "df_dolar['Fecha'] = pd.to_datetime(df_dolar['Fecha'])\n",
    "\n",
    "df_dolar = df_dolar.sort_values(by='Fecha', ascending=False)"
   ]
  },
  {
   "cell_type": "code",
   "execution_count": 45,
   "id": "3a842162",
   "metadata": {},
   "outputs": [
    {
     "name": "stdout",
     "output_type": "stream",
     "text": [
      "<class 'pandas.core.frame.DataFrame'>\n",
      "Int64Index: 5164 entries, 5171 to 0\n",
      "Data columns (total 5 columns):\n",
      " #   Column         Non-Null Count  Dtype         \n",
      "---  ------         --------------  -----         \n",
      " 0   Fecha          5164 non-null   datetime64[ns]\n",
      " 1   Precio_Inicio  5164 non-null   float64       \n",
      " 2   Precio_Maximo  5164 non-null   float64       \n",
      " 3   Precio_Minimo  5164 non-null   float64       \n",
      " 4   Precio_Final   5164 non-null   float64       \n",
      "dtypes: datetime64[ns](1), float64(4)\n",
      "memory usage: 242.1 KB\n"
     ]
    }
   ],
   "source": [
    "#Quitar valores nulos\n",
    "df_dolar = df_dolar.dropna(subset=df_dolar.columns[df_dolar.isnull().any()])\n",
    "\n",
    "df_dolar.info()"
   ]
  },
  {
   "cell_type": "code",
   "execution_count": 46,
   "id": "5b40a22b",
   "metadata": {},
   "outputs": [
    {
     "name": "stdout",
     "output_type": "stream",
     "text": [
      "<class 'pandas.core.frame.DataFrame'>\n",
      "Int64Index: 522 entries, 5171 to 4650\n",
      "Data columns (total 5 columns):\n",
      " #   Column         Non-Null Count  Dtype         \n",
      "---  ------         --------------  -----         \n",
      " 0   Fecha          522 non-null    datetime64[ns]\n",
      " 1   Precio_Inicio  522 non-null    float64       \n",
      " 2   Precio_Maximo  522 non-null    float64       \n",
      " 3   Precio_Minimo  522 non-null    float64       \n",
      " 4   Precio_Final   522 non-null    float64       \n",
      "dtypes: datetime64[ns](1), float64(4)\n",
      "memory usage: 24.5 KB\n"
     ]
    }
   ],
   "source": [
    "#Tomar solo dos años de informacion\n",
    "from dateutil.relativedelta import relativedelta\n",
    "\n",
    "df_dolar = df_dolar[(df_dolar['Fecha'] >= df_dolar['Fecha'].max() - relativedelta(years=2)) & \n",
    "                    (df_dolar['Fecha'] <= df_dolar['Fecha'].max())]\n",
    "df_dolar.info()"
   ]
  },
  {
   "cell_type": "code",
   "execution_count": 49,
   "id": "cdb264ba",
   "metadata": {},
   "outputs": [],
   "source": [
    "#Exportar base de datos trabajada\n",
    "df_dolar['Fecha'] = pd.to_datetime(df_dolar['Fecha'])\n",
    "df_dolar['Fecha'] = df_dolar['Fecha'].dt.date\n",
    "\n",
    "df_dolar.to_excel(r'C:\\Users\\tmoli\\OneDrive\\Documentos\\Angel\\Maestria\\Materias\\3. Aprendizaje Automatico\\Traea 2\\df_dolar.xlsx',\n",
    "                  index=False)"
   ]
  }
 ],
 "metadata": {
  "kernelspec": {
   "display_name": "Python 3 (ipykernel)",
   "language": "python",
   "name": "python3"
  },
  "language_info": {
   "codemirror_mode": {
    "name": "ipython",
    "version": 3
   },
   "file_extension": ".py",
   "mimetype": "text/x-python",
   "name": "python",
   "nbconvert_exporter": "python",
   "pygments_lexer": "ipython3",
   "version": "3.9.13"
  }
 },
 "nbformat": 4,
 "nbformat_minor": 5
}
