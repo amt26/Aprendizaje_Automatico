{
 "cells": [
  {
   "cell_type": "markdown",
   "id": "2d263214",
   "metadata": {},
   "source": [
    "<img src=\"Logo.png\" alt=\"Logo UANL FCFM\" width=\"100%\"/>"
   ]
  },
  {
   "attachments": {},
   "cell_type": "markdown",
   "id": "136e86e5",
   "metadata": {},
   "source": [
    "# <center>UNIVERSIDAD AUTÓNOMA DE NUEVO LEÓN</center>\n",
    "\n",
    "## <center>FACULTAD DE CIENCIAS FÍSICO MATEMÁTICAS</center>\n",
    "\n",
    "### <center>MAESTRÍA EN CIENCIA DE DATOS </center>\n",
    "\n",
    "### <center>APRENDIZAJE AUTOMÁTICO</center>\n",
    "\n",
    "### <center>MODELOS SUPERVISADOS PARA LA PREDICCIÓN DEL DÓLAR</center>\n",
    "\n",
    "#### <center>MAESTRO: JOSE ALBERTO BENAVIDES VAZQUEZ</center>\n",
    "\n",
    "#### <center>ALUMNO: ANGEL FERNANDO MOLINA TREVIÑO</center>"
   ]
  },
  {
   "cell_type": "markdown",
   "id": "b2ae6b82",
   "metadata": {},
   "source": [
    "# Índice"
   ]
  },
  {
   "cell_type": "markdown",
   "id": "5171d4dd",
   "metadata": {},
   "source": [
    "1. [Introducción](#sección-1)\n",
    "\n",
    "2. [Descripción de los datos](#sección-2)\n",
    "\n",
    "3. [Modelo Supervisado](#sección-3)\n",
    "\n",
    "   3.1 [Regresión de Bosques Aleatorios (Random Forest Regression)](#subsección-3.1)\n",
    "   \n",
    "   3.2 [Métricas de Desempeño](#subsección-3.2)\n",
    "   \n",
    "   3.3 [comparación de la variable real vs la predicción](#subsección-3.3)\n",
    "   \n",
    "\n",
    "4. [Interpretación de Resultados](#sección-4)\n",
    "\n",
    "5. [Conclusión](#sección-3)\n",
    "\n",
    "6. [Bibliografía](#sección-4)"
   ]
  },
  {
   "cell_type": "markdown",
   "id": "81507df0",
   "metadata": {},
   "source": [
    "## 1. Introducción"
   ]
  },
  {
   "cell_type": "markdown",
   "id": "1dfcfe95",
   "metadata": {},
   "source": [
    "En este artículo, exploraremos los modelos supervisados aplicados al ámbito financiero, centrándonos especialmente en el modelo de Regresión de Bosques Aleatorios (Random Forest Regression) para predecir el precio del dólar. Explorando que variables pueden predecir la monetaria, examinaremos detalladamente el desempeño de este modelo a través de diversas métricas clave.\n",
    "\n",
    "Desentrañaremos el modelo mediante el análisis de métricas fundamentales como el Error Cuadrático Medio (MSE), la Raíz del Error Cuadrático Medio (RMSE), el Error Absoluto Medio (MAE), el Porcentaje Absoluto Medio de Error (MAPE) y el Coeficiente de Determinación (R²). Estas herramientas no solo proporcionarán una evaluación precisa del rendimiento del modelo, sino que también nos permitirán comprender la eficacia de nuestras predicciones y su impacto en el emocionante mundo financiero. "
   ]
  },
  {
   "cell_type": "markdown",
   "id": "bcb8964e",
   "metadata": {},
   "source": [
    "## 2. Descripción de los datos"
   ]
  },
  {
   "cell_type": "markdown",
   "id": "360f9f69",
   "metadata": {},
   "source": [
    "La base de datos utilizada constituye diversos indicadores, con un total de 3,862 registros recopilados en un periodo entre el 01 de julio de 2008 y el 31 de octubre de 2023. A continuacion una descripcion de cada variable:\n",
    "\n",
    "1. Precio USD/MXN\n",
    "    \n",
    "    - Representa el tipo de cambio entre el dólar estadounidense y el peso mexicano, indicando cuántos pesos mexicanos se necesitan para comprar un dólar.\n",
    "\n",
    "    - Es fundamental para las transacciones internacionales, el comercio exterior y puede influir en la inflación y la competitividad de la economía.\n",
    "\n",
    "    - Su variación afecta la competitividad de las exportaciones e importaciones, así como el poder adquisitivo de los ciudadanos.\n",
    "    \n",
    "    - Es una variable Cuantitativa Continua.\n",
    "    \n",
    "\n",
    "2. Producto Interno Bruto (PIB)\n",
    "\n",
    "    - El PIB mide el valor total de bienes y servicios producidos dentro de un país en un período de tiempo específico.\n",
    "    \n",
    "    - Indica la salud económica de un país y su capacidad para generar riqueza.\n",
    "\n",
    "    - Es un indicador clave del crecimiento económico y se utiliza para comparar el desempeño económico entre países.\n",
    "\n",
    "    - Es una variable Cuantitativa Continua.\n",
    "\n",
    "\n",
    "3. Índice de desempleo\n",
    "\n",
    "    - Mide el porcentaje de la fuerza laboral que está desempleada y busca activamente empleo.\n",
    "\n",
    "    - Indica la salud del mercado laboral y puede influir en las políticas económicas y sociales.\n",
    "\n",
    "    - Un bajo nivel de desempleo generalmente se asocia con un buen funcionamiento de la economía.\n",
    "\n",
    "    - Es una variable Cuantitativa Continua.\n",
    "\n",
    "\n",
    "4. Índice Nacional de Precios al Consumidor (INPC)\n",
    "   \n",
    "    - Mide la variación promedio de los precios de un conjunto de bienes y servicios representativos en el tiempo.\n",
    "    \n",
    "    - Indica la tasa de inflación y su impacto en el poder adquisitivo.\n",
    "    \n",
    "    - La estabilidad de precios es esencial para el buen funcionamiento de la economía.\n",
    "\n",
    "    - Es una variable Cuantitativa Continua.\n",
    "\n",
    "\n",
    "5. Indicador Global de la Actividad Económica\n",
    "\n",
    "    - Proporciona una medida compuesta del desempeño económico, considerando varios indicadores.\n",
    "    \n",
    "    - Ofrece una visión general del estado general de la economía.\n",
    "    \n",
    "    - Ayuda a identificar tendencias económicas y guía la toma de decisiones empresariales y gubernamentales.\n",
    "    \n",
    "    - Es una variable Cuantitativa Continua.\n",
    "\n",
    "\n",
    "6. Indicador de Pedidos Manufactureros\n",
    "\n",
    "    - Mide la cantidad de pedidos realizados a los fabricantes para la producción de bienes.\n",
    "\n",
    "    - Indica la demanda de bienes manufacturados y puede anticipar cambios en la producción y el empleo.\n",
    "    \n",
    "    - Es un indicador adelantado que puede señalar la dirección futura de la actividad económica.\n",
    "    \n",
    "    - Es una variable Cuantitativa Continua.\n",
    "\n",
    "<img src=\"Histogramas.png\" alt=\"Histogramas\" width=\"80%\"/>\n",
    "<center>Figura 1: Histogramas</center>\n",
    "\n",
    "\n",
    "|Variable | Promedio | Desviacion Estandar | Minimo | Maximo | Rango | 25% | 50% | 75% |\n",
    "| ------------ | ------------ |  ------------ | ------------ | ------------ | ------------ | ------------ | ------------ | ------------ |\n",
    "|TipoCambio| 16.457 | 3.398 | 9.918 | 25.119 | 15.201 | 13.066 | 17.133 | 19.403 | \n",
    "|PIB| 16,927,982.237 | 1,406,278.346 | 13,752,148.809 | 18,984,914.861 | 5,232,766.052 | 15,825,792.772 | 17,295,278.773 | 18,211,361.657 |\n",
    "|INPC| 4.545 | 1.487 | 2.130 | 8.700 | 6.570 | 3.448 | 4.193 | 5.521 | \n",
    "|IndiceDesempleo| 4.250 | 0.814 | 2.656 | 5.997 | 3.341 | 3.507 | 4.316 | 4.980 |\n",
    "|Indice_Pedidos_Manufactureros| 53.655 | 2.244 | 39.608 | 57.685 | 18.077 | 52.844 | 54.225 | 54.982 |\n",
    "|IGAE| 92.735 | 7.053 | 75.976 | 104.024 | 28.048 | 88.006 | 94.774 | 99.130 |\n",
    "\n",
    "<center>Tabla 1: Descriptiva de las variables</center>\n"
   ]
  },
  {
   "cell_type": "markdown",
   "id": "ee636e8c",
   "metadata": {},
   "source": [
    "### 2.1 Limpieza de datos\n",
    "\n",
    "Al descargar el historial de precios del dólar, se observó que incluia fechas correspondientes a días festivos o fines de semana. Por este motivo, se procedió a eliminar todos los registros asociados a dichos días, con el fin de asegurar la consistencia y precisión de los datos.\n",
    "\n",
    "En el contexto de este análisis, la variable \"Precio USD/MXN\" se designa como la variable dependiente, mientras que las demás variables se consideran como independientes.\n",
    "\n",
    "Dado que algunos indicadores se presentan en formatos mensuales o trimestrales, se implementó un proceso de interpolación. Este procedimiento tiene como objetivo consolidar todos los datos en un periodo diario, asegurando así la coherencia temporal y facilitando un análisis exhaustivo de la evolución de los indicadores, incluyendo el precio del USD/MXN."
   ]
  },
  {
   "cell_type": "markdown",
   "id": "e3def523",
   "metadata": {},
   "source": [
    "## 3. Modelo Supervisado"
   ]
  },
  {
   "cell_type": "markdown",
   "id": "1f81f640",
   "metadata": {},
   "source": [
    "Un modelo supervisado es un tipo de modelo de aprendizaje automático que se entrena utilizando un conjunto de datos etiquetado. En este enfoque, el modelo aprende a realizar predicciones o tomar decisiones basadas en ejemplos de entrada y sus correspondientes salidas etiquetadas.\n",
    "\n",
    "Características de los modelos supervisados:\n",
    "\n",
    "1. Se requiere un conjunto de datos de entrenamiento que contenga ejemplos de entrada junto con las salidas deseadas. Las etiquetas son las respuestas correctas que el modelo intentará aprender.\n",
    "\n",
    "2. El modelo supervisado tiene como objetivo hacer predicciones o tomar decisiones sobre datos no etiquetados, generalizando a partir de los ejemplos de entrenamiento proporcionados.\n",
    "\n",
    "3. Los modelos supervisados abarcan diversas técnicas, como regresión y clasificación. En la regresión, el modelo predice valores continuos, mientras que en la clasificación, el modelo asigna datos a categorías o clases predefinidas."
   ]
  },
  {
   "cell_type": "markdown",
   "id": "9b382654",
   "metadata": {},
   "source": [
    "### 3.1 Regresión de Bosques Aleatorios (Random Forest Regression)"
   ]
  },
  {
   "cell_type": "markdown",
   "id": "d461e53c",
   "metadata": {},
   "source": [
    "El Random Forest Regression es un algoritmo de aprendizaje automático que pertenece a la categoría de métodos de ensamble. Un ensamble es un modelo que combina múltiples modelos individuales para obtener un rendimiento general mejor que el de cada uno de los modelos componentes. En el caso de los Bosques Aleatorios, estos están compuestos por múltiples árboles de decisión.\n",
    "\n",
    "Esta es una descripción general de cómo funciona la Regresión de Bosques Aleatorios:\n",
    "\n",
    "- Un Bosque Aleatorio consta de un conjunto de árboles de decisión. Cada árbol se entrena de forma independiente en una porción aleatoria de los datos.\n",
    "   \n",
    "- En cada nodo del árbol, en lugar de considerar todas las variables predictoras disponibles, se selecciona un subconjunto aleatorio de características. Este proceso se conoce como \"muestreo aleatorio de características\" y ayuda a decorrelacionar los árboles, evitando que todos se centren en las mismas variables.\n",
    "    \n",
    "- Cada árbol se construye de manera recursiva dividiendo los datos en función de las características seleccionadas. El proceso de división se repite hasta alcanzar un criterio de parada, como la profundidad máxima del árbol o un número mínimo de observaciones en una hoja.\n",
    "    \n",
    "- La predicción de un Bosque Aleatorio para un nuevo conjunto de datos se obtiene promediando las predicciones de todos los árboles individuales. En el caso de la regresión, esta operación sería un promedio ponderado de las salidas de los árboles.\n",
    "\n",
    "- El ensamble de árboles y el muestreo aleatorio de características hacen que los Bosques Aleatorios sean robustos y menos propensos al sobreajuste en comparación con un solo árbol de decisión.\n",
    "\n",
    "Los Bosques Aleatorios son versátiles y pueden aplicarse tanto a problemas de clasificación como de regresión. Son conocidos por su capacidad para manejar grandes conjuntos de datos con muchas características, así como por su buen rendimiento sin requerir ajustes finos complejos.\n",
    "\n",
    "<img src=\"EjemploArbol.jpg\" alt=\"Regresión de Bosques Aleatorios (Random Forest Regression)\" width=\"50%\"/>\n",
    "<center>Figura 2:Regresión de Bosques Aleatorios (Random Forest Regression)</center>\n"
   ]
  },
  {
   "cell_type": "markdown",
   "id": "3d344190",
   "metadata": {},
   "source": [
    "### 3.2 Metricas de Desempeño"
   ]
  },
  {
   "cell_type": "markdown",
   "id": "a1aa64e9",
   "metadata": {},
   "source": [
    "Las métricas de desempeño son medidas cuantitativas que evalúan la calidad y precisión de un modelo predictivo en relación con los datos de entrada y salida. Son esenciales para entender cómo se comporta un modelo en términos de aciertos y errores, y proporcionan una base objetiva para comparar diferentes modelos o ajustes. Aquí hay una descripción general de su utilidad y por qué son importantes en los modelos:\n",
    "\n",
    "- Las métricas de desempeño permiten una evaluación cuantitativa del rendimiento del modelo. Proporcionan números específicos que indican qué tan bien el modelo se ajusta a los datos de entrenamiento o a nuevos datos no vistos.\n",
    "\n",
    "- Facilitan la comparación entre diferentes modelos o configuraciones. Al utilizar las mismas métricas para evaluar modelos alternativos, se puede tomar decisiones informadas sobre cuál es más efectivo para la tarea específica.\n",
    "\n",
    "- Facilitan la mejora continua del modelo. Al monitorear métricas a lo largo del tiempo, es posible realizar ajustes periódicos para mantener o mejorar el rendimiento del modelo a medida que cambian los datos o las condiciones.\n",
    "\n",
    "Estas son las metricas de desempeño que se utilizaran en este proyecto:\n",
    "\n",
    "1. Error Cuadrático Medio (MSE):\n",
    "\n",
    "    - El MSE mide la magnitud promedio de los errores al cuadrado entre las predicciones y los valores reales. Se calcula sumando los cuadrados de las diferencias individuales y dividiendo por el número de observaciones. Es sensible a valores atípicos ya que eleva al cuadrado los errores. Un MSE más bajo indica un mejor ajuste del modelo, pero el valor óptimo depende del contexto y la escala de los datos.\n",
    "    \n",
    "\n",
    "2. Raíz del Error Cuadrático Medio (RMSE):\n",
    "\n",
    "    - El RMSE es la raíz cuadrada del MSE y proporciona una métrica en la misma unidad que la variable de interés. Esto facilita la interpretación, ya que representa la desviación estándar de los errores. Al igual que el MSE, penaliza fuertemente los errores grandes. Un RMSE cercano a cero indica un buen ajuste, pero la interpretación específica depende del dominio de aplicación.\n",
    "    \n",
    "    \n",
    "3. Error Absoluto Medio (MAE):\n",
    "\n",
    "    - El MAE mide la magnitud promedio de los errores absolutos entre las predicciones y los valores reales. A diferencia del MSE, no eleva al cuadrado los errores, lo que lo hace menos sensible a valores atípicos. Es una medida de error fácil de interpretar. Un MAE más bajo indica un mejor ajuste, y un valor de MAE cercano al cero es deseable.\n",
    "\n",
    "\n",
    "4. Porcentaje Absoluto Medio de Error (MAPE):\n",
    "\n",
    "    - El MAPE calcula el porcentaje promedio de error absoluto en relación con los valores reales. Es útil para evaluar el rendimiento relativo de un modelo en términos porcentuales y es especialmente útil cuando se trabaja con diferentes escalas en los datos. Un MAPE bajo indica un mejor rendimiento, pero la interpretación depende del rango de valores y el contexto específico del problema.\n",
    "\n",
    "\n",
    "5. Coeficiente de Determinación (R²):\n",
    "\n",
    "    - El coeficiente de determinación, R², indica la proporción de la varianza en la variable dependiente que es predecible a partir de las variables independientes. R² varía entre 0 y 1, donde 1 indica una predicción perfecta. Sin embargo, R² puede ser engañoso si se utiliza como única medida, ya que no captura la magnitud de los errores, solo la proporción de variabilidad explicada. Un R² más alto sugiere un mejor ajuste, pero su interpretación precisa depende del campo de aplicación y la complejidad del modelo."
   ]
  },
  {
   "cell_type": "markdown",
   "id": "687d2c37",
   "metadata": {},
   "source": [
    "## 4. Interpretación de Resultados"
   ]
  },
  {
   "cell_type": "markdown",
   "id": "15b3f6e6",
   "metadata": {},
   "source": [
    "Como podemos a ver a continuacion en la Figura 3, el gráfico indica que el modelo de predicción tiene un rendimiento excepcionalmente alto, ya que los puntos de predicción (en rojo) están prácticamente superpuestos con los valores reales (en azul), siguiendo de cerca una línea diagonal. Esto sugiere una capacidad significativa para capturar patrones y relaciones en los datos de prueba. En resumen, el modelo parece realizar predicciones muy precisas en este conjunto de datos específico."
   ]
  },
  {
   "cell_type": "markdown",
   "id": "65e10319",
   "metadata": {},
   "source": [
    "<img src=\"Grafico.png\" alt=\"Regresión de Bosques Aleatorios (Random Forest Regression)\" width=\"50%\"/>\n",
    "<center>Figura 3: Precio dólar real vs precio dólar estimado</center>"
   ]
  },
  {
   "attachments": {},
   "cell_type": "markdown",
   "id": "ad36e803",
   "metadata": {},
   "source": [
    "El comentario realizado para el gráfico de dispersión del precio del dólar real vs el precio estimado lo podemos corroborar con el valor de las metricas de desempeño calculadas:\n",
    "\n",
    "|Metricas de Desempeño | Resultado|\n",
    "| ------------ | ------------ |\n",
    "|Error Cuadrático Medio (MSE) | 0.0173|\n",
    "|Raíz del Error Cuadrático Medio (RMSE) | 0.1313|\n",
    "|Error Absoluto Medio (MAE) | 0.0880|\n",
    "|Porcentaje Absoluto Medio de Error (MAPE) | 0.534%|\n",
    "|Coeficiente de Determinación (R²) | 0.9985|\n",
    "<center>Tabla 2: Metricas de Desempeño</center>\n",
    "\n",
    "Observando las metricas podemos decir que el modelo tiene un muy buen rendimiento. El Error Cuadrático Medio (MSE) y la Raíz del Error Cuadrático Medio (RMSE) son notablemente bajos, indicando que las predicciones tienen errores cuadráticos pequeños y una magnitud de error promedio reducida. El Error Absoluto Medio (MAE) muestra una precisión general alta, con pequeños errores absolutos promedio. El Porcentaje Absoluto Medio de Error (MAPE) es mínimo (0.53%), lo que refleja un bajo porcentaje de error en las predicciones en comparación con los valores reales. Además, el Coeficiente de Determinación (R²) es alto (0.9985), sugiriendo que el modelo explica casi la totalidad de la variabilidad en los datos de entrenamiento. \n",
    "\n",
    "En conjunto, estas métricas respaldan la conclusión de que el modelo demuestra una capacidad sobresaliente para predecir con precisión en el conjunto de datos evaluado."
   ]
  },
  {
   "cell_type": "markdown",
   "id": "8afdda84",
   "metadata": {},
   "source": [
    "## 5. Conclusión"
   ]
  },
  {
   "cell_type": "markdown",
   "id": "d307d50b",
   "metadata": {},
   "source": [
    "En resumen, al analizar los resultados de mi estudio sobre la predicción del precio del dólar, confirmo que el uso de un modelo supervisado, en particular el modelo de Regresión de Bosques Aleatorios, ha demostrado ser altamente efectivo a comparacion de los modelos no supervisados. Las métricas de desempeño, como el Error Cuadrático Medio, la Raíz del Error Cuadrático Medio, el Error Absoluto Medio y el Coeficiente de Determinación, respaldan de manera consistente la capacidad sobresaliente del modelo para predecir con precisión. Además, la observación visual del gráfico confirma que el modelo logra superponer de manera excepcional los puntos de predicción con los valores reales, siguiendo una línea diagonal cercana. En conclusión, utilizar un enfoque supervisado, específicamente el modelo de Regresión de Bosques Aleatorios, se revela como una elección acertada para predecir con éxito el precio del dólar en este estudio."
   ]
  },
  {
   "cell_type": "markdown",
   "id": "072b71d2",
   "metadata": {},
   "source": [
    "## 6. Bibliografía"
   ]
  },
  {
   "cell_type": "markdown",
   "id": "0b7830be",
   "metadata": {},
   "source": [
    "1. Ligdi Gonzalez, \"Bosque Aleatorios Regresión – Teoría\", 2023, (https://aprendeia.com/bosques-aleatorios-regresion-teoria-machine-learning/)\n",
    "2. Ligdi Gonzalez, \"BOSQUES ALEATORIOS REGRESIÓN - PRÁCTICA | #30 Curso Machine Learning con Python\", 2019, (https://www.youtube.com/watch?v=E2u-VxSXPXc)\n",
    "3. IBM, \"Tipos de modelos\", 2021, https://www.ibm.com/docs/es/spss-modeler/saas?topic=mining-types-models\n",
    "4. Telefonica Tech, \"Tipos de aprendizaje en Machine Learning: supervisado y no supervisado\", 2021, https://telefonicatech.com/blog/que-algoritmo-elegir-en-ml-aprendizaje#:~:text=Estos%20dos%20tipos%20principales%20de,objetivo%20es%20de%20tipo%20num%C3%A9rico."
   ]
  }
 ],
 "metadata": {
  "kernelspec": {
   "display_name": "Python 3 (ipykernel)",
   "language": "python",
   "name": "python3"
  },
  "language_info": {
   "codemirror_mode": {
    "name": "ipython",
    "version": 3
   },
   "file_extension": ".py",
   "mimetype": "text/x-python",
   "name": "python",
   "nbconvert_exporter": "python",
   "pygments_lexer": "ipython3",
   "version": "3.9.13"
  }
 },
 "nbformat": 4,
 "nbformat_minor": 5
}
