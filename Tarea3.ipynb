{
 "cells": [
  {
   "cell_type": "markdown",
   "id": "33748432",
   "metadata": {},
   "source": [
    "## Estadisticos"
   ]
  },
  {
   "cell_type": "code",
   "execution_count": 1,
   "id": "60cebecb",
   "metadata": {},
   "outputs": [],
   "source": [
    "#Leemos el archivo limpio que se realizo en la tarea 2\n",
    "import pandas as pd\n",
    "\n",
    "df_dolar = pd.read_excel(r'C:\\Users\\tmoli\\OneDrive\\Documentos\\Angel\\Maestria\\Materias\\3. Aprendizaje Automatico\\Tarea 2\\df_dolar.xlsx')"
   ]
  },
  {
   "attachments": {},
   "cell_type": "markdown",
   "id": "6dc54df8",
   "metadata": {},
   "source": [
    "### Medidas de tendencia central y dispersión"
   ]
  },
  {
   "cell_type": "code",
   "execution_count": 2,
   "id": "3d2e9ffb",
   "metadata": {},
   "outputs": [],
   "source": [
    "##############################\n",
    "#Medidas de tendencia central#\n",
    "##############################\n",
    "\n",
    "#Media\n",
    "def media(valor):\n",
    "    return sum(valor) / len(valor)\n",
    "\n",
    "#Mediana\n",
    "def mediana(valor):\n",
    "    datos_ordenados = sorted(valor)\n",
    "    n = len(valor)\n",
    "    if n % 2 == 0:\n",
    "        return (datos_ordenados[n // 2 - 1] + datos_ordenados[n // 2]) / 2\n",
    "    else:\n",
    "        return datos_ordenados[n // 2]\n",
    "\n",
    "#Moda\n",
    "def moda(valor):\n",
    "    frecuencias = valor.value_counts()\n",
    "    return frecuencias[frecuencias == frecuencias.max()].index\n",
    "\n",
    "#######################\n",
    "#Medidas de dispersión#\n",
    "#######################\n",
    "\n",
    "#varianza\n",
    "def varianza(valor):\n",
    "    m = media(valor)\n",
    "    n = len(valor)\n",
    "    suma_cuadrados = sum((x - media) ** 2 for x in valor)\n",
    "    return suma_cuadrados / n\n",
    "\n",
    "#Desviacion estandar\n",
    "def desviacion_estandar(valor):\n",
    "    return varianza(valor) ** 0.5\n",
    "\n",
    "#Rango\n",
    "def rango(valor):\n",
    "    return valor.max() - valor.min()\n",
    "\n",
    "#Cuantil\n",
    "def cuantil(valor, p):\n",
    "    datos_ordenados = sorted(valor)\n",
    "    n = len(valor)\n",
    "\n",
    "    posicion_cuantil = (n - 1) * p\n",
    "\n",
    "    inferior = int(posicion_cuantil // 1)\n",
    "    superior = int(inferior + 1)\n",
    "\n",
    "    #interpolación lineal\n",
    "    cuantil = datos_ordenados[inferior] + (posicion_cuantil % 1) * (datos_ordenados[superior] - datos_ordenados[inferior])\n",
    "\n",
    "    return cuantil"
   ]
  },
  {
   "cell_type": "markdown",
   "id": "0568dc63",
   "metadata": {},
   "source": [
    "### Estadísticos descriptivos básicos"
   ]
  },
  {
   "cell_type": "code",
   "execution_count": 3,
   "id": "64e5daaa",
   "metadata": {},
   "outputs": [
    {
     "data": {
      "text/html": [
       "<div>\n",
       "<style scoped>\n",
       "    .dataframe tbody tr th:only-of-type {\n",
       "        vertical-align: middle;\n",
       "    }\n",
       "\n",
       "    .dataframe tbody tr th {\n",
       "        vertical-align: top;\n",
       "    }\n",
       "\n",
       "    .dataframe thead th {\n",
       "        text-align: right;\n",
       "    }\n",
       "</style>\n",
       "<table border=\"1\" class=\"dataframe\">\n",
       "  <thead>\n",
       "    <tr style=\"text-align: right;\">\n",
       "      <th></th>\n",
       "      <th>Precio_Inicio</th>\n",
       "      <th>Precio_Maximo</th>\n",
       "      <th>Precio_Minimo</th>\n",
       "      <th>Precio_Final</th>\n",
       "    </tr>\n",
       "  </thead>\n",
       "  <tbody>\n",
       "    <tr>\n",
       "      <th>count</th>\n",
       "      <td>522.000000</td>\n",
       "      <td>522.000000</td>\n",
       "      <td>522.000000</td>\n",
       "      <td>522.000000</td>\n",
       "    </tr>\n",
       "    <tr>\n",
       "      <th>mean</th>\n",
       "      <td>19.340600</td>\n",
       "      <td>19.437036</td>\n",
       "      <td>19.258520</td>\n",
       "      <td>19.340627</td>\n",
       "    </tr>\n",
       "    <tr>\n",
       "      <th>std</th>\n",
       "      <td>1.313428</td>\n",
       "      <td>1.323681</td>\n",
       "      <td>1.305014</td>\n",
       "      <td>1.313353</td>\n",
       "    </tr>\n",
       "    <tr>\n",
       "      <th>min</th>\n",
       "      <td>16.680901</td>\n",
       "      <td>16.747841</td>\n",
       "      <td>16.615801</td>\n",
       "      <td>16.680901</td>\n",
       "    </tr>\n",
       "    <tr>\n",
       "      <th>25%</th>\n",
       "      <td>18.146963</td>\n",
       "      <td>18.219875</td>\n",
       "      <td>18.068024</td>\n",
       "      <td>18.146963</td>\n",
       "    </tr>\n",
       "    <tr>\n",
       "      <th>50%</th>\n",
       "      <td>19.862850</td>\n",
       "      <td>19.944440</td>\n",
       "      <td>19.798750</td>\n",
       "      <td>19.862850</td>\n",
       "    </tr>\n",
       "    <tr>\n",
       "      <th>75%</th>\n",
       "      <td>20.374200</td>\n",
       "      <td>20.469590</td>\n",
       "      <td>20.290428</td>\n",
       "      <td>20.374200</td>\n",
       "    </tr>\n",
       "    <tr>\n",
       "      <th>max</th>\n",
       "      <td>21.728901</td>\n",
       "      <td>22.149981</td>\n",
       "      <td>21.671700</td>\n",
       "      <td>21.729601</td>\n",
       "    </tr>\n",
       "  </tbody>\n",
       "</table>\n",
       "</div>"
      ],
      "text/plain": [
       "       Precio_Inicio  Precio_Maximo  Precio_Minimo  Precio_Final\n",
       "count     522.000000     522.000000     522.000000    522.000000\n",
       "mean       19.340600      19.437036      19.258520     19.340627\n",
       "std         1.313428       1.323681       1.305014      1.313353\n",
       "min        16.680901      16.747841      16.615801     16.680901\n",
       "25%        18.146963      18.219875      18.068024     18.146963\n",
       "50%        19.862850      19.944440      19.798750     19.862850\n",
       "75%        20.374200      20.469590      20.290428     20.374200\n",
       "max        21.728901      22.149981      21.671700     21.729601"
      ]
     },
     "execution_count": 3,
     "metadata": {},
     "output_type": "execute_result"
    }
   ],
   "source": [
    "df_dolar.describe()"
   ]
  },
  {
   "cell_type": "markdown",
   "id": "0c9e30ab",
   "metadata": {},
   "source": [
    "### Matriz de correlación"
   ]
  },
  {
   "cell_type": "code",
   "execution_count": 4,
   "id": "67cb719b",
   "metadata": {},
   "outputs": [
    {
     "data": {
      "text/html": [
       "<div>\n",
       "<style scoped>\n",
       "    .dataframe tbody tr th:only-of-type {\n",
       "        vertical-align: middle;\n",
       "    }\n",
       "\n",
       "    .dataframe tbody tr th {\n",
       "        vertical-align: top;\n",
       "    }\n",
       "\n",
       "    .dataframe thead th {\n",
       "        text-align: right;\n",
       "    }\n",
       "</style>\n",
       "<table border=\"1\" class=\"dataframe\">\n",
       "  <thead>\n",
       "    <tr style=\"text-align: right;\">\n",
       "      <th></th>\n",
       "      <th>Precio_Inicio</th>\n",
       "      <th>Precio_Maximo</th>\n",
       "      <th>Precio_Minimo</th>\n",
       "      <th>Precio_Final</th>\n",
       "    </tr>\n",
       "  </thead>\n",
       "  <tbody>\n",
       "    <tr>\n",
       "      <th>Precio_Inicio</th>\n",
       "      <td>1.000000</td>\n",
       "      <td>0.997629</td>\n",
       "      <td>0.998875</td>\n",
       "      <td>0.999995</td>\n",
       "    </tr>\n",
       "    <tr>\n",
       "      <th>Precio_Maximo</th>\n",
       "      <td>0.997629</td>\n",
       "      <td>1.000000</td>\n",
       "      <td>0.997915</td>\n",
       "      <td>0.997619</td>\n",
       "    </tr>\n",
       "    <tr>\n",
       "      <th>Precio_Minimo</th>\n",
       "      <td>0.998875</td>\n",
       "      <td>0.997915</td>\n",
       "      <td>1.000000</td>\n",
       "      <td>0.998874</td>\n",
       "    </tr>\n",
       "    <tr>\n",
       "      <th>Precio_Final</th>\n",
       "      <td>0.999995</td>\n",
       "      <td>0.997619</td>\n",
       "      <td>0.998874</td>\n",
       "      <td>1.000000</td>\n",
       "    </tr>\n",
       "  </tbody>\n",
       "</table>\n",
       "</div>"
      ],
      "text/plain": [
       "               Precio_Inicio  Precio_Maximo  Precio_Minimo  Precio_Final\n",
       "Precio_Inicio       1.000000       0.997629       0.998875      0.999995\n",
       "Precio_Maximo       0.997629       1.000000       0.997915      0.997619\n",
       "Precio_Minimo       0.998875       0.997915       1.000000      0.998874\n",
       "Precio_Final        0.999995       0.997619       0.998874      1.000000"
      ]
     },
     "execution_count": 4,
     "metadata": {},
     "output_type": "execute_result"
    }
   ],
   "source": [
    "#Matriz de correlacion\n",
    "matriz_correlacion = df_dolar.corr()\n",
    "matriz_correlacion"
   ]
  },
  {
   "cell_type": "code",
   "execution_count": 5,
   "id": "840dcb11",
   "metadata": {},
   "outputs": [
    {
     "data": {
      "image/png": "[encoded data removed]",
      "text/plain": [
       "<Figure size 800x600 with 2 Axes>"
      ]
     },
     "metadata": {},
     "output_type": "display_data"
    }
   ],
   "source": [
    "#Grafico de correlacion\n",
    "import seaborn as sns\n",
    "import matplotlib.pyplot as plt\n",
    "\n",
    "sns.set(style=\"white\")  # Configuración de estilo\n",
    "plt.figure(figsize=(8, 6))  # Tamaño de la figura\n",
    "sns.heatmap(matriz_correlacion, annot=True, cmap=\"coolwarm\", fmt=\".2f\", linewidths=.5)\n",
    "plt.title(\"Gráfico de Correlación\")\n",
    "plt.show()"
   ]
  },
  {
   "attachments": {},
   "cell_type": "markdown",
   "id": "987ec8ba",
   "metadata": {},
   "source": [
    "Es razonable que todas las variables mostrarán una correlación cercana a 1, dado que todas ellas representan el precio del dólar en diferentes momentos del día. Con base en esta observación. Considero valioso incorporar indicadores económicos clave, tales como el Producto Interno Bruto (PIB), el Índice de Desempleo y el Índice de Precios al Consumidor (IPC) ya quetienen el potencial de fortalecer la precisión de las predicciones sobre el comportamiento futuro del precio del dólar."
   ]
  },
  {
   "cell_type": "markdown",
   "id": "68376c3a",
   "metadata": {},
   "source": [
    "### Prueba de hipótesis"
   ]
  },
  {
   "cell_type": "markdown",
   "id": "57693ed3",
   "metadata": {},
   "source": [
    "#### Para esta prueba se utilizara la variable Precio Final"
   ]
  },
  {
   "cell_type": "code",
   "execution_count": 8,
   "id": "dd3af1eb",
   "metadata": {},
   "outputs": [
    {
     "name": "stdout",
     "output_type": "stream",
     "text": [
      "Estadístico de prueba: 0.9008416533470154\n",
      "Valor p: 6.6739748370764016e-18\n",
      "Se rechaza la hipótesis nula. Los datos no siguen una distribución normal.\n"
     ]
    }
   ],
   "source": [
    "#Prueba de normalidad para saber si el precio final sigue una distribucion normal\n",
    "from scipy import stats\n",
    "import numpy as np\n",
    "\n",
    "# Realiza la prueba de Shapiro-Wilk\n",
    "stat, p_valor = stats.shapiro(df_dolar[\"Precio_Final\"].values)\n",
    "\n",
    "# Establece un nivel de significancia (por ejemplo, 0.05)\n",
    "nivel_significancia = 0.05\n",
    "\n",
    "# Imprime los resultados\n",
    "print(f'Estadístico de prueba: {stat}')\n",
    "print(f'Valor p: {p_valor}')\n",
    "\n",
    "# Compara el valor p con el nivel de significancia\n",
    "if p_valor > nivel_significancia:\n",
    "    print('No se puede rechazar la hipótesis nula. Los datos parecen seguir una distribución normal.')\n",
    "else:\n",
    "    print('Se rechaza la hipótesis nula. Los datos no siguen una distribución normal.')"
   ]
  },
  {
   "cell_type": "markdown",
   "id": "1d28be36",
   "metadata": {},
   "source": [
    "### Presenta tus resultados gráficamente"
   ]
  },
  {
   "cell_type": "code",
   "execution_count": 12,
   "id": "f1439b35",
   "metadata": {},
   "outputs": [
    {
     "data": {
      "image/png": "[encoded data removed]",
      "text/plain": [
       "<Figure size 640x480 with 1 Axes>"
      ]
     },
     "metadata": {},
     "output_type": "display_data"
    }
   ],
   "source": [
    "#Histograma de precio final del dolar\n",
    "plt.figure(figsize=(6.4, 4.8))\n",
    "plt.hist(df_dolar[\"Precio_Final\"].values, color=\"lightblue\")\n",
    "\n",
    "plt.title(\"Histograma de la Precio Final\")\n",
    "plt.xlabel(\"Precio Final\")\n",
    "plt.ylabel(\"Frecuencia\")\n",
    "plt.show()"
   ]
  }
 ],
 "metadata": {
  "kernelspec": {
   "display_name": "Python 3 (ipykernel)",
   "language": "python",
   "name": "python3"
  },
  "language_info": {
   "codemirror_mode": {
    "name": "ipython",
    "version": 3
   },
   "file_extension": ".py",
   "mimetype": "text/x-python",
   "name": "python",
   "nbconvert_exporter": "python",
   "pygments_lexer": "ipython3",
   "version": "3.9.13"
  }
 },
 "nbformat": 4,
 "nbformat_minor": 5
}
