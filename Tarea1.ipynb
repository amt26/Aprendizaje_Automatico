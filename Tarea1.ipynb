{
 "cells": [
  {
   "cell_type": "markdown",
   "id": "368b33b0",
   "metadata": {},
   "source": [
    "# Tarea 1\n",
    "## Correlación"
   ]
  },
  {
   "cell_type": "code",
   "execution_count": null,
   "id": "b7f8d18d",
   "metadata": {},
   "outputs": [],
   "source": [
    "#Leectura de librerias\n",
    "import pandas as pd"
   ]
  },
  {
   "cell_type": "code",
   "execution_count": null,
   "id": "0ea0370e",
   "metadata": {},
   "outputs": [],
   "source": [
    "#Importar base\n",
    "df = pd.read_csv(r'C:\\Users\\tmoli\\OneDrive\\Documentos\\Angel\\Maestria\\Materias\\1. Metodos Estadisticos\\Reportes\\BD\\BD.csv')"
   ]
  },
  {
   "cell_type": "code",
   "execution_count": null,
   "id": "3c39890a",
   "metadata": {
    "scrolled": false
   },
   "outputs": [],
   "source": [
    "#Crear matriz de correlacion\n",
    "df.corr()"
   ]
  },
  {
   "cell_type": "markdown",
   "id": "dcbe4eda",
   "metadata": {},
   "source": [
    "## Conjunto de datos"
   ]
  },
  {
   "cell_type": "markdown",
   "id": "935dbe6b",
   "metadata": {},
   "source": [
    "### Definir un conjunto de datos y justificar su elección"
   ]
  },
  {
   "cell_type": "markdown",
   "id": "e961643b",
   "metadata": {},
   "source": [
    "En el ámbito del aprendizaje automático, mi objetivo es crear un modelo capaz de pronosticar el tipo de cambio entre el dólar estadounidense (USD) y el peso mexicano (MXN). Si bien comprendo que este desafío puede resultar complejo, estoy convencido de que este proyecto me proporcionará valiosos conocimientos que podré aplicar en mi entorno laboral en busca de una solución efectiva."
   ]
  },
  {
   "cell_type": "markdown",
   "id": "dabf8916",
   "metadata": {},
   "source": [
    "### Establecer objetivos a lograr en el curso"
   ]
  },
  {
   "cell_type": "markdown",
   "id": "95e159d6",
   "metadata": {},
   "source": [
    "En este curso, mi principal interés se centra en adquirir habilidades en la selección de características, el aprendizaje no supervisado, el aprendizaje supervisado y la clasificación. Estos conceptos son fundamentales en mi día a día laboral, y considero de gran relevancia dominarlos para poder adentrarme en el campo de la ciencia de datos."
   ]
  }
 ],
 "metadata": {
  "kernelspec": {
   "display_name": "Python 3 (ipykernel)",
   "language": "python",
   "name": "python3"
  },
  "language_info": {
   "codemirror_mode": {
    "name": "ipython",
    "version": 3
   },
   "file_extension": ".py",
   "mimetype": "text/x-python",
   "name": "python",
   "nbconvert_exporter": "python",
   "pygments_lexer": "ipython3",
   "version": "3.9.13"
  }
 },
 "nbformat": 4,
 "nbformat_minor": 5
}
