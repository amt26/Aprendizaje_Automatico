{
 "cells": [
  {
   "cell_type": "markdown",
   "id": "2d263214",
   "metadata": {},
   "source": [
    "<img src=\"Logo.png\" alt=\"Logo UANL FCFM\" width=\"100%\"/>"
   ]
  },
  {
   "cell_type": "markdown",
   "id": "136e86e5",
   "metadata": {},
   "source": [
    "# <center>UNIVERSIDAD AUTÓNOMA DE NUEVO LEÓN</center>\n",
    "\n",
    "## <center>FACULTAD DE CIENCIAS FÍSICO MATEMÁTICAS</center>\n",
    "\n",
    "### <center>MAESTRÍA EN CIENCIA DE DATOS </center>\n",
    "\n",
    "### <center>APRENDIZAJE AUTOMÁTICO</center>\n",
    "\n",
    "### <center>AVANCE DEL PROYECTO FINAL</center>\n",
    "\n",
    "#### <center>MAESTRO: JOSE ALBERTO BENAVIDES VAZQUEZ</center>\n",
    "\n",
    "#### <center>ALUMNO: ANGEL FERNANDO MOLINA TREVIÑO</center>"
   ]
  },
  {
   "cell_type": "markdown",
   "id": "b2ae6b82",
   "metadata": {},
   "source": [
    "# Índice"
   ]
  },
  {
   "cell_type": "markdown",
   "id": "5171d4dd",
   "metadata": {},
   "source": [
    "1. [Introducción](#sección-1)\n",
    "\n",
    "\n",
    "2. [Modelo Supervisado](#sección-2)\n",
    "   \n",
    "   2.1 [Regresión de Bosques Aleatorios (Random Forest Regression)](#subsección-2.1)\n",
    "   \n",
    "   2.2 [Métricas de Desempeño](#subsección-2.2)\n",
    "   \n",
    "   2.3 [comparación de la variable real vs la predicción](#subsección-2.3)\n",
    "\n",
    "3. [Conclusión](#sección-3)\n",
    "\n",
    "4. [Bibliografía](#sección-4)"
   ]
  },
  {
   "cell_type": "markdown",
   "id": "81507df0",
   "metadata": {},
   "source": [
    "## 1. Introducción"
   ]
  },
  {
   "cell_type": "markdown",
   "id": "360f9f69",
   "metadata": {},
   "source": [
    "La base de datos utilizada constituye diversos indicadores, con un total de 3,862 registros recopilados en un periodo entre el 01 de julio de 2008 y el 31 de octubre de 2023. Los indicadores clave abordados incluyen:\n",
    "\n",
    "1. Precio USD/MXN\n",
    "2. Producto Interno Bruto (PIB)\n",
    "3. Índice de desempleo\n",
    "4. Índice Nacional de Precios al Consumidor (INPC)\n",
    "5. Indicador Global de la Actividad Económica\n",
    "6. Indicador de Pedidos Manufactureros\n",
    "\n",
    "En esta estructura, la variable Precio USD/MXN se identifica como la variable dependiente, mientras que las demás variables se posicionan como variables independientes. Es fundamental resaltar que todas estas variables son de naturaleza continua.\n",
    "\n",
    "Dado que algunos indicadores se presentan de manera mensual o trimestral, se llevó a cabo un proceso de interpolación con el fin de unificar todos los datos en un periodo diario. Este procedimiento garantiza la coherencia temporal y facilita el análisis conjunto de la evolución de estos indicadores, incluyendo el precio del USD/MXN."
   ]
  },
  {
   "cell_type": "markdown",
   "id": "e3def523",
   "metadata": {},
   "source": [
    "## 2. Modelo Supervisado\n"
   ]
  },
  {
   "cell_type": "markdown",
   "id": "df9c3971",
   "metadata": {},
   "source": [
    "Un modelo supervisado es un tipo de modelo de aprendizaje automático que se entrena utilizando un conjunto de datos etiquetado. En este enfoque, el modelo aprende a realizar predicciones o tomar decisiones basadas en ejemplos de entrada y sus correspondientes salidas etiquetadas.\n",
    "\n",
    "Características de los modelos supervisados:\n",
    "\n",
    "1. Se requiere un conjunto de datos de entrenamiento que contenga ejemplos de entrada junto con las salidas deseadas. Las etiquetas son las respuestas correctas que el modelo intentará aprender.\n",
    "\n",
    "2. El modelo supervisado tiene como objetivo hacer predicciones o tomar decisiones sobre datos no etiquetados, generalizando a partir de los ejemplos de entrenamiento proporcionados.\n",
    "\n",
    "3. Los modelos supervisados abarcan diversas técnicas, como regresión y clasificación. En la regresión, el modelo predice valores continuos, mientras que en la clasificación, el modelo asigna datos a categorías o clases predefinidas."
   ]
  },
  {
   "cell_type": "markdown",
   "id": "c465f249",
   "metadata": {},
   "source": [
    "### 2.1 Regresión de Bosques Aleatorios (Random Forest Regression)"
   ]
  },
  {
   "cell_type": "markdown",
   "id": "d461e53c",
   "metadata": {},
   "source": [
    "El Random Forest Regression es un algoritmo de aprendizaje automático que pertenece a la categoría de métodos de ensamble. Un ensamble es un modelo que combina múltiples modelos individuales para obtener un rendimiento general mejor que el de cada uno de los modelos componentes. En el caso de los Bosques Aleatorios, estos están compuestos por múltiples árboles de decisión.\n",
    "\n",
    "Esta es una descripción general de cómo funciona la Regresión de Bosques Aleatorios:\n",
    "\n",
    "- Un Bosque Aleatorio consta de un conjunto de árboles de decisión. Cada árbol se entrena de forma independiente en una porción aleatoria de los datos.\n",
    "   \n",
    "- En cada nodo del árbol, en lugar de considerar todas las variables predictoras disponibles, se selecciona un subconjunto aleatorio de características. Este proceso se conoce como \"muestreo aleatorio de características\" y ayuda a decorrelacionar los árboles, evitando que todos se centren en las mismas variables.\n",
    "    \n",
    "- Cada árbol se construye de manera recursiva dividiendo los datos en función de las características seleccionadas. El proceso de división se repite hasta alcanzar un criterio de parada, como la profundidad máxima del árbol o un número mínimo de observaciones en una hoja.\n",
    "    \n",
    "- La predicción de un Bosque Aleatorio para un nuevo conjunto de datos se obtiene promediando las predicciones de todos los árboles individuales. En el caso de la regresión, esta operación sería un promedio ponderado de las salidas de los árboles.\n",
    "\n",
    "- El ensamble de árboles y el muestreo aleatorio de características hacen que los Bosques Aleatorios sean robustos y menos propensos al sobreajuste en comparación con un solo árbol de decisión.\n",
    "\n",
    "Los Bosques Aleatorios son versátiles y pueden aplicarse tanto a problemas de clasificación como de regresión. Son conocidos por su capacidad para manejar grandes conjuntos de datos con muchas características, así como por su buen rendimiento sin requerir ajustes finos complejos.\n",
    "\n",
    "<img src=\"EjemploArbol.jpg\" alt=\"Regresión de Bosques Aleatorios (Random Forest Regression)\" width=\"50%\"/>\n",
    "<center>Figura 1:Regresión de Bosques Aleatorios (Random Forest Regression)</center>\n"
   ]
  },
  {
   "cell_type": "markdown",
   "id": "3d344190",
   "metadata": {},
   "source": [
    "### 2.2 Metricas de Desempeño"
   ]
  },
  {
   "cell_type": "markdown",
   "id": "a1aa64e9",
   "metadata": {},
   "source": [
    "Las métricas de desempeño son medidas cuantitativas que evalúan la calidad y precisión de un modelo predictivo en relación con los datos de entrada y salida. Son esenciales para entender cómo se comporta un modelo en términos de aciertos y errores, y proporcionan una base objetiva para comparar diferentes modelos o ajustes. Aquí hay una descripción general de su utilidad y por qué son importantes en los modelos:\n",
    "\n",
    "- Las métricas de desempeño permiten una evaluación cuantitativa del rendimiento del modelo. Proporcionan números específicos que indican qué tan bien el modelo se ajusta a los datos de entrenamiento o a nuevos datos no vistos.\n",
    "\n",
    "- Facilitan la comparación entre diferentes modelos o configuraciones. Al utilizar las mismas métricas para evaluar modelos alternativos, se puede tomar decisiones informadas sobre cuál es más efectivo para la tarea específica.\n",
    "\n",
    "- Facilitan la mejora continua del modelo. Al monitorear métricas a lo largo del tiempo, es posible realizar ajustes periódicos para mantener o mejorar el rendimiento del modelo a medida que cambian los datos o las condiciones.\n",
    "\n",
    "Estas son las metricas de desempeño que se utilizaran en este proyecto:\n",
    "\n",
    "1. Error Cuadrático Medio (MSE):\n",
    "\n",
    "    - El MSE mide la magnitud promedio de los errores al cuadrado entre las predicciones y los valores reales. Se calcula sumando los cuadrados de las diferencias individuales y dividiendo por el número de observaciones. Es sensible a valores atípicos ya que eleva al cuadrado los errores. Un MSE más bajo indica un mejor ajuste del modelo, pero el valor óptimo depende del contexto y la escala de los datos.\n",
    "    \n",
    "\n",
    "2. Raíz del Error Cuadrático Medio (RMSE):\n",
    "\n",
    "    - El RMSE es la raíz cuadrada del MSE y proporciona una métrica en la misma unidad que la variable de interés. Esto facilita la interpretación, ya que representa la desviación estándar de los errores. Al igual que el MSE, penaliza fuertemente los errores grandes. Un RMSE cercano a cero indica un buen ajuste, pero la interpretación específica depende del dominio de aplicación.\n",
    "    \n",
    "    \n",
    "3. Error Absoluto Medio (MAE):\n",
    "\n",
    "    - El MAE mide la magnitud promedio de los errores absolutos entre las predicciones y los valores reales. A diferencia del MSE, no eleva al cuadrado los errores, lo que lo hace menos sensible a valores atípicos. Es una medida de error fácil de interpretar. Un MAE más bajo indica un mejor ajuste, y un valor de MAE cercano al cero es deseable.\n",
    "\n",
    "\n",
    "4. Porcentaje Absoluto Medio de Error (MAPE):\n",
    "\n",
    "    - El MAPE calcula el porcentaje promedio de error absoluto en relación con los valores reales. Es útil para evaluar el rendimiento relativo de un modelo en términos porcentuales y es especialmente útil cuando se trabaja con diferentes escalas en los datos. Un MAPE bajo indica un mejor rendimiento, pero la interpretación depende del rango de valores y el contexto específico del problema.\n",
    "\n",
    "\n",
    "5. Coeficiente de Determinación (R²):\n",
    "\n",
    "    - El coeficiente de determinación, R², indica la proporción de la varianza en la variable dependiente que es predecible a partir de las variables independientes. R² varía entre 0 y 1, donde 1 indica una predicción perfecta. Sin embargo, R² puede ser engañoso si se utiliza como única medida, ya que no captura la magnitud de los errores, solo la proporción de variabilidad explicada. Un R² más alto sugiere un mejor ajuste, pero su interpretación precisa depende del campo de aplicación y la complejidad del modelo."
   ]
  },
  {
   "cell_type": "markdown",
   "id": "687d2c37",
   "metadata": {},
   "source": [
    "### Comparacion de la variable real vs la predicción"
   ]
  },
  {
   "cell_type": "markdown",
   "id": "65e10319",
   "metadata": {},
   "source": [
    "<img src=\"Grafico.png\" alt=\"Regresión de Bosques Aleatorios (Random Forest Regression)\" width=\"50%\"/>\n",
    "<center>Figura 2: Precio dólar real vs precio dólar estimado</center>\n"
   ]
  },
  {
   "cell_type": "markdown",
   "id": "02079c3f",
   "metadata": {},
   "source": [
    "Observando la grafica del precio del dólar vs el precio estimado podemos ver que tienen un comportamiento muy similar y dato que todas la metricas de desempeño podemos decir que el modelo es muy prometedor. Con un coeficiente de determinación (R²) cercano a 1 y métricas de error muy bajas, el modelo parece capturar de manera efectiva la variabilidad en los datos y hacer predicciones que se alinean estrechamente con los valores reales. "
   ]
  },
  {
   "cell_type": "markdown",
   "id": "8afdda84",
   "metadata": {},
   "source": [
    "## 3. Conclusión"
   ]
  },
  {
   "cell_type": "markdown",
   "id": "d307d50b",
   "metadata": {},
   "source": [
    "En conclusión, los resultados confirman que usar un modelo supervisado es mucho más efectivo que uno no supervisado para predecir el precio del dólar. El modelo de Regresión de Bosques Aleatorios ha demostrado ser una elección acertada, según las métricas de desempeño. Sin embargo, es crucial hacer más investigaciones para asegurarse de que el modelo cumpla con ciertos requisitos antes de considerarlo como la solución final. Este paso adicional garantizará que el modelo sea robusto y confiable en diferentes situaciones y entornos."
   ]
  },
  {
   "cell_type": "markdown",
   "id": "072b71d2",
   "metadata": {},
   "source": [
    "## 4. Bibliografía"
   ]
  },
  {
   "cell_type": "markdown",
   "id": "0b7830be",
   "metadata": {},
   "source": [
    "1. Ligdi Gonzalez, \"Bosque Aleatorios Regresión – Teoría\", 2023, (https://aprendeia.com/bosques-aleatorios-regresion-teoria-machine-learning/)\n",
    "2. Ligdi Gonzalez, \"BOSQUES ALEATORIOS REGRESIÓN - PRÁCTICA | #30 Curso Machine Learning con Python\", 2019, (https://www.youtube.com/watch?v=E2u-VxSXPXc)\n",
    "3. IBM, \"Tipos de modelos\", 2021, https://www.ibm.com/docs/es/spss-modeler/saas?topic=mining-types-models\n",
    "4. Telefonica Tech, \"Tipos de aprendizaje en Machine Learning: supervisado y no supervisado\", 2021, https://telefonicatech.com/blog/que-algoritmo-elegir-en-ml-aprendizaje#:~:text=Estos%20dos%20tipos%20principales%20de,objetivo%20es%20de%20tipo%20num%C3%A9rico."
   ]
  }
 ],
 "metadata": {
  "kernelspec": {
   "display_name": "Python 3 (ipykernel)",
   "language": "python",
   "name": "python3"
  },
  "language_info": {
   "codemirror_mode": {
    "name": "ipython",
    "version": 3
   },
   "file_extension": ".py",
   "mimetype": "text/x-python",
   "name": "python",
   "nbconvert_exporter": "python",
   "pygments_lexer": "ipython3",
   "version": "3.9.13"
  }
 },
 "nbformat": 4,
 "nbformat_minor": 5
}
